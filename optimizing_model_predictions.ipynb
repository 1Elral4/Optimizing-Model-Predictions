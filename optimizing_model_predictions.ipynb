{
 "cells": [
  {
   "cell_type": "markdown",
   "metadata": {},
   "source": [
    "# Optimzing Model Predictions"
   ]
  },
  {
   "cell_type": "markdown",
   "metadata": {},
   "source": [
    "## Goal"
   ]
  },
  {
   "cell_type": "markdown",
   "metadata": {},
   "source": [
    "Optimize the model prediction though different strategies if applicable:\n",
    "- Handling outliers\n",
    "- K-fold cross validation\n",
    "- Regularization\n",
    "- Non-linear models\n",
    "\n",
    "We will start with a base model and iterate to find one that performs better.\n",
    "\n",
    "The goal is to predict the extent of fire damage to a forest"
   ]
  },
  {
   "cell_type": "markdown",
   "metadata": {},
   "source": [
    "## Data"
   ]
  },
  {
   "cell_type": "markdown",
   "metadata": {},
   "source": [
    "We will use the [Forest Fires]([[https](https://archive.ics.uci.edu/ml/datasets/Forest+Fires)://archive.ics.uci.edu/dataset/597/productivity+prediction+of+garment+employees](https://archive.ics.uci.edu/ml/datasets/Forest+Fires)) set from the UCI Machine Learning Repository. "
   ]
  },
  {
   "cell_type": "markdown",
   "metadata": {},
   "source": [
    "-  **X** : x-axis spatial coordinate within the Montesinho park map: 1 to 9\n",
    "-  **Y** : y-axis spatial coordinate within the Montesinho park map: 2 to 9\n",
    "-  **month** : month of the year: 'jan' to 'dec' \n",
    "-  **day** : day of the week: 'mon' to 'sun'\n",
    "-  **FFMC** : FFMC index from the FWI system: 18.7 to 96.20\n",
    "-  **DMC** : DMC index from the FWI system: 1.1 to 291.3 \n",
    "-  **DC** : DC index from the FWI system: 7.9 to 860.6 \n",
    "-  **ISI** : ISI index from the FWI system: 0.0 to 56.10\n",
    "-  **temp** : temperature in Celsius degrees: 2.2 to 33.30\n",
    "-   **RH** : relative humidity in %: 15.0 to 100\n",
    "-   **wind** : wind speed in km/h: 0.40 to 9.40 \n",
    "-   **rain** : outside rain in mm/m2 : 0.0 to 6.4 \n",
    "-   **area** : the burned area of the forest (in ha): 0.00 to 1090.84 \n",
    "   (this output variable is very skewed towards 0.0, thus it may make\n",
    "    sense to model with the logarithm transform)."
   ]
  },
  {
   "cell_type": "markdown",
   "metadata": {},
   "source": [
    "## Libraries"
   ]
  },
  {
   "cell_type": "code",
   "execution_count": 1,
   "metadata": {},
   "outputs": [],
   "source": [
    "import matplotlib.pyplot as plt\n",
    "import seaborn as sns\n",
    "import numpy as np\n",
    "import pandas as pd\n",
    "\n",
    "from sklearn.model_selection import train_test_split, GridSearchCV\n",
    "\n",
    "from sklearn.linear_model import LinearRegression\n",
    "\n",
    "from sklearn.metrics import  mean_squared_error"
   ]
  },
  {
   "cell_type": "markdown",
   "metadata": {},
   "source": [
    "## Model Development"
   ]
  },
  {
   "cell_type": "markdown",
   "metadata": {},
   "source": [
    "### Load data"
   ]
  },
  {
   "cell_type": "code",
   "execution_count": 2,
   "metadata": {},
   "outputs": [],
   "source": [
    "ff = pd.read_csv('data/forestfires.csv')"
   ]
  },
  {
   "cell_type": "markdown",
   "metadata": {},
   "source": [
    "### EDA"
   ]
  }
 ],
 "metadata": {
  "kernelspec": {
   "display_name": "base",
   "language": "python",
   "name": "python3"
  },
  "language_info": {
   "codemirror_mode": {
    "name": "ipython",
    "version": 3
   },
   "file_extension": ".py",
   "mimetype": "text/x-python",
   "name": "python",
   "nbconvert_exporter": "python",
   "pygments_lexer": "ipython3",
   "version": "3.11.5"
  }
 },
 "nbformat": 4,
 "nbformat_minor": 2
}
